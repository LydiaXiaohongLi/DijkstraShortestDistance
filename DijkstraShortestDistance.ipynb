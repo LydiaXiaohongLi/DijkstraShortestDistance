{
 "cells": [
  {
   "cell_type": "code",
   "execution_count": 52,
   "metadata": {},
   "outputs": [],
   "source": [
    "import heapq"
   ]
  },
  {
   "cell_type": "code",
   "execution_count": 51,
   "metadata": {},
   "outputs": [],
   "source": [
    "graph = {}\n",
    "with open('Data\\dijkstraData.txt') as file:\n",
    "    for line in file:\n",
    "        graph[line.split()[0]]={}\n",
    "        for i in range(len(line.split())-1):\n",
    "            graph[line.split()[0]][line.split()[i+1].split(',')[0]]=line.split()[i+1].split(',')[1] \n",
    "#graph is a dictionary for adjancency list, with node as key, connected node details as values\n",
    "#each connected node detail is a dictionary, with connected node as key, and distance as value"
   ]
  },
  {
   "cell_type": "code",
   "execution_count": 102,
   "metadata": {},
   "outputs": [],
   "source": [
    "graph={1:{2:3,4:1}, 2:{3:3,4:4,8:4},3:{1:5},4:{3:2,5:1},5:{6:5,7:2},6:{10:4},7:{6:3},8:{9:5},\n",
    "               9:{10:1},10:{11:2},11:{9:3}}"
   ]
  },
  {
   "cell_type": "code",
   "execution_count": 103,
   "metadata": {},
   "outputs": [],
   "source": [
    "class Dijkstra (object):\n",
    "    def __init__(self, graph, start_node):\n",
    "        self.graph=graph\n",
    "        self.start_node=start_node\n",
    "        self.distance={self.start_node:0}\n",
    "        self.dijkstraHeap=[]\n",
    "        self.dijkstraHeapDict={}\n",
    "        for node in self.graph.keys():\n",
    "            if node in self.graph[self.start_node].keys():\n",
    "                heapq.heappush(self.dijkstraHeap, (self.graph[self.start_node][node],node))\n",
    "                self.dijkstraHeapDict[node] = self.graph[self.start_node][node]\n",
    "        heapq.heapify(self.dijkstraHeap)\n",
    "    def get_dijkstra_distance(self):\n",
    "        for i in range(len(graph)-1):\n",
    "            node_to_add = heapq.heappop(self.dijkstraHeap)\n",
    "            while node_to_add[1] in self.distance.keys():\n",
    "                node_to_add = heapq.heappop(self.dijkstraHeap)\n",
    "            self.distance[node_to_add[1]]=node_to_add[0]\n",
    "            for connected_node in self.graph[node_to_add[1]].keys():\n",
    "                if connected_node in self.dijkstraHeapDict.keys():\n",
    "                    if (self.graph[node_to_add[1]][connected_node] + node_to_add[0])<= self.dijkstraHeapDict[connected_node]:\n",
    "                        heapq.heappush(self.dijkstraHeap,((self.graph[node_to_add[1]][connected_node] + node_to_add[0]),connected_node))\n",
    "                        self.dijkstraHeapDict[connected_node] = (self.graph[node_to_add[1]][connected_node] + node_to_add[0])\n",
    "                else:\n",
    "                    heapq.heappush(self.dijkstraHeap,((self.graph[node_to_add[1]][connected_node] + node_to_add[0]),connected_node))\n",
    "                    self.dijkstraHeapDict[connected_node] = (self.graph[node_to_add[1]][connected_node] + node_to_add[0])                \n"
   ]
  },
  {
   "cell_type": "code",
   "execution_count": 105,
   "metadata": {},
   "outputs": [
    {
     "name": "stdout",
     "output_type": "stream",
     "text": [
      "(1, 4)\n",
      "(2, 5)\n",
      "(3, 2)\n",
      "(3, 3)\n",
      "(4, 7)\n",
      "(7, 6)\n",
      "(7, 8)\n",
      "(11, 10)\n",
      "(12, 9)\n",
      "(13, 11)\n"
     ]
    },
    {
     "data": {
      "text/plain": [
       "{1: 0, 2: 3, 3: 3, 4: 1, 5: 2, 6: 7, 7: 4, 8: 7, 9: 12, 10: 11, 11: 13}"
      ]
     },
     "execution_count": 105,
     "metadata": {},
     "output_type": "execute_result"
    }
   ],
   "source": [
    "dijkstra=Dijkstra(graph,1)\n",
    "dijkstra.get_dijkstra_distance()\n",
    "dijkstra.distance"
   ]
  },
  {
   "cell_type": "code",
   "execution_count": null,
   "metadata": {},
   "outputs": [],
   "source": []
  }
 ],
 "metadata": {
  "kernelspec": {
   "display_name": "Python 3",
   "language": "python",
   "name": "python3"
  },
  "language_info": {
   "codemirror_mode": {
    "name": "ipython",
    "version": 3
   },
   "file_extension": ".py",
   "mimetype": "text/x-python",
   "name": "python",
   "nbconvert_exporter": "python",
   "pygments_lexer": "ipython3",
   "version": "3.6.4"
  }
 },
 "nbformat": 4,
 "nbformat_minor": 2
}
